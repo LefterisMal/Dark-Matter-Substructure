{
 "cells": [
  {
   "cell_type": "code",
   "execution_count": null,
   "id": "20467524",
   "metadata": {},
   "outputs": [],
   "source": []
  },
  {
   "cell_type": "code",
   "execution_count": 6,
   "id": "f6bf7163",
   "metadata": {},
   "outputs": [],
   "source": [
    "from subhalos_WDM import *\n",
    "\n",
    "m_wdm   = 1.5             # [keV]\n",
    "Mhost_0 = 1e12            # Host halo mass at redshift = 0 [Msolar]\n",
    "\n",
    "sh      = subhalos(m_wdm)"
   ]
  },
  {
   "cell_type": "code",
   "execution_count": null,
   "id": "8c8ddf61",
   "metadata": {},
   "outputs": [],
   "source": [
    "ma200, z_a, rs_a, rhos_a, m0, rs0, rhos0, ct0, weight, survive \\\n",
    "    = sh.rs_rhos_calc(Mhost_0)"
   ]
  },
  {
   "cell_type": "code",
   "execution_count": null,
   "id": "390e694e",
   "metadata": {},
   "outputs": [],
   "source": [
    "m, dNdm = sh.subhalo_distr(Mhost_0)\n",
    "\n",
    "plt.loglog(m,m**2*dNdm)\n",
    "plt.xlim(1e6,1e12)\n",
    "plt.ylim(1e8,1e11)\n",
    "plt.xlabel(r'$m_0$ [$M_{\\odot}$]',fontsize=20)\n",
    "plt.ylabel(r'$m^{2} dN_{\\rm sh}/dm$ [$M_{\\odot}$]',fontsize=20)\n",
    "plt.show()"
   ]
  },
  {
   "cell_type": "code",
   "execution_count": null,
   "id": "6a68c874",
   "metadata": {},
   "outputs": [],
   "source": [
    "Nsat, x, y = sh.N_sat(Mhost_0)\n",
    "\n",
    "plt.loglog(x,y)\n",
    "plt.xlim(1e7,1e11)\n",
    "plt.ylim(1,1e2)\n",
    "plt.xlabel(r'$m_a$',fontsize=20)\n",
    "plt.ylabel(r'$N_{\\rm sat}(>m_a)$',fontsize=20)\n",
    "plt.show()\n",
    "\n",
    "print(\"Total number of satellites = \", np.int(Nsat))"
   ]
  },
  {
   "cell_type": "code",
   "execution_count": null,
   "id": "9091d079",
   "metadata": {},
   "outputs": [],
   "source": [
    "Vpeak = 18 # km/s\n",
    "Nsat, x, y = sh.N_sat_Vthres(Mhost_0, Vpeak)\n",
    "\n",
    "plt.loglog(x,y)\n",
    "plt.xlim(0,70)\n",
    "plt.ylim(1e-1,1e3)\n",
    "plt.xlabel(r'$V_{\\rm max}$ [km/s]',fontsize=20)\n",
    "plt.ylabel(r'$N_{\\rm sh}(>V_{\\rm max})$',fontsize=20)\n",
    "plt.show()\n",
    "\n",
    "print(\"Total number of satellites = \", np.int(Nsat))"
   ]
  },
  {
   "cell_type": "code",
   "execution_count": null,
   "id": "ca9ff54a",
   "metadata": {},
   "outputs": [],
   "source": []
  },
  {
   "cell_type": "code",
   "execution_count": null,
   "id": "a73e7300",
   "metadata": {},
   "outputs": [],
   "source": []
  },
  {
   "cell_type": "code",
   "execution_count": null,
   "id": "ee8c19fa",
   "metadata": {},
   "outputs": [],
   "source": []
  },
  {
   "cell_type": "code",
   "execution_count": null,
   "id": "937bef6d",
   "metadata": {},
   "outputs": [],
   "source": []
  }
 ],
 "metadata": {
  "kernelspec": {
   "display_name": "Python 3",
   "language": "python",
   "name": "python3"
  },
  "language_info": {
   "codemirror_mode": {
    "name": "ipython",
    "version": 3
   },
   "file_extension": ".py",
   "mimetype": "text/x-python",
   "name": "python",
   "nbconvert_exporter": "python",
   "pygments_lexer": "ipython3",
   "version": "3.8.10"
  }
 },
 "nbformat": 4,
 "nbformat_minor": 5
}
