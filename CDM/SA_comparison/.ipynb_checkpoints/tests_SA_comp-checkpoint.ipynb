{
 "cells": [
  {
   "cell_type": "code",
   "execution_count": 1,
   "id": "3f867049-ad4d-4e62-a15c-8d7cb9325df0",
   "metadata": {},
   "outputs": [],
   "source": [
    "from subhalos_SA2_comp import *\n",
    "\n",
    "plt.rc('font', **{'family':'sans-serif','size':15})\n",
    "plt.rc('text', usetex=False)\n",
    "plt.rc('xtick', labelsize=15)\n",
    "plt.rc('ytick', labelsize=15)\n",
    "plt.rcParams['xtick.major.size'] = 5\n",
    "plt.rcParams['xtick.major.width'] = 1\n",
    "plt.rcParams['xtick.minor.size'] = 2\n",
    "plt.rcParams['xtick.minor.width'] = 1\n",
    "plt.rcParams['ytick.major.size'] = 5\n",
    "plt.rcParams['ytick.major.width'] = 1\n",
    "plt.rcParams['ytick.minor.size'] = 2\n",
    "plt.rcParams['ytick.minor.width'] = 1\n",
    "plt.rcParams['xtick.direction'] = 'in'\n",
    "plt.rcParams['ytick.direction'] = 'in'\n",
    "plt.rcParams['xtick.major.pad'] = 8\n",
    "plt.rcParams['xtick.top'] = True\n",
    "plt.rcParams['ytick.right'] = True"
   ]
  },
  {
   "cell_type": "code",
   "execution_count": 2,
   "id": "cac75e13-f2d9-4f46-9b82-10af064d17e7",
   "metadata": {},
   "outputs": [],
   "source": [
    "M0=1e12                         #Mass of the host halo.\n",
    "redshift = 0.\n",
    "N_ma=100                        #number of subhalo mass values in a given range.\n",
    "zmax=7                          #highest redshift value for mass accretion.\n",
    "N_r=20                         #The number of radius values in the given range [0.01,1]\n",
    "\n",
    "logmamin=-6                     #The minimum subhalos' masss in units of ln(mass).\n",
    "mmodel_1=5                      #This variable defines the dm/dt model for the calculation,see subhalos_latest2.py\n",
    "                                #at function msolve for more details. \n",
    "    \n",
    "mmodel_2=1                      #This dm/dt model correspond to the model with no spatial information.\n",
    "\n",
    "\n",
    "#Calculation of scale and virial radius of the host halo for z=redshift and mass=M0.\n",
    "c = c_from_Mvir(Mvir=M0*Msolar,z=redshift)\n",
    "Oz = Omegaz(pOmega,redshift)\n",
    "rvir = (3.*M0*Msolar/(4.*np.pi*rhocrit(redshift)*Delc(Oz-1)))**(1./3.)\n",
    "rs = rvir/c"
   ]
  },
  {
   "cell_type": "markdown",
   "id": "12cbac2d",
   "metadata": {},
   "source": [
    "## My model:"
   ]
  },
  {
   "cell_type": "code",
   "execution_count": null,
   "id": "03209892",
   "metadata": {},
   "outputs": [],
   "source": [
    "ma200_new, rs_a_new, rhos_a_new, m0_new, rs0_new, rhos0_new, ct0_new, weight_new, survive_new,r_new,zacc_new  \\\n",
    "    = rs_rhos_calc_new(M0=M0,logmamin=logmamin,N_ma=N_ma, zmax=zmax,N_r=N_r,mmodel=mmodel_1,\n",
    "                       rmin=0.001,rmax=1,logr=True)"
   ]
  },
  {
   "cell_type": "code",
   "execution_count": null,
   "id": "fb7b2670",
   "metadata": {},
   "outputs": [],
   "source": [
    "#Calculating number density in [kpc^-3]:\n",
    "def my_model(r_new,weight_new,z_low,m0_new=m0_new,survive_new=survive_new,zacc_new=zacc_new,N_r=N_r):\n",
    "    w=(m0_new>1)*(zacc_new>z_low)\n",
    "    bins=np.logspace(np.log10(0.001),0,N_r+1)\n",
    "    #Calculating subhalo-distance relation of N(r):\n",
    "    Nsh_new,rr=np.histogram(r_new[w],weights=weight_new[w],bins=bins)\n",
    "    q_new=(bins[1:]+bins[:-1])/2.\n",
    "    dq_new=bins[1:]-bins[:-1]\n",
    "    #Calculating number density n(r)= N(r)/dV,with dV=(4*pi*r**2)*dr:\n",
    "    nsh_list_new = Nsh_new/(4.*np.pi*dq_new*q_new**2*(rvir/kpc)**3)\n",
    "    return q_new,nsh_list_new"
   ]
  },
  {
   "cell_type": "code",
   "execution_count": null,
   "id": "4ee9f70e",
   "metadata": {},
   "outputs": [],
   "source": [
    "q_new,nsh_list_new=my_model(r_new,weight_new,z_low=0,zacc_new=zacc_new,N_r=N_r)\n",
    "q_new2,nsh_list_new2=my_model(r_new,weight_new,z_low=0.2,zacc_new=zacc_new,N_r=N_r)"
   ]
  },
  {
   "cell_type": "markdown",
   "id": "ce95d65b",
   "metadata": {},
   "source": [
    "## Schin'ichiro's code:"
   ]
  },
  {
   "cell_type": "code",
   "execution_count": null,
   "id": "8e78bab9",
   "metadata": {},
   "outputs": [],
   "source": [
    "#Spatial information through NFW witc c=c(z=0,M=M0):\n",
    "q_list = np.logspace(-3,0,N_r)*0.99\n",
    "nsh_list = np.empty_like(q_list)\n",
    "for i in np.arange(np.alen(q_list)):\n",
    "    q = q_list[i]\n",
    "    ma200,rs_a,rhos_a,m0,rs0,rhos0,ct0,weight,survive_new \\\n",
    "        = rs_rhos_calc_one_r(M0=M0,radius=q,redshift=redshift,\n",
    "                             logmamin=logmamin,N_ma=N_ma,\n",
    "                             zmax=zmax,mmodel=mmodel_1)\n",
    "    Nsh = np.sum(weight[(m0>1)*(survive_new==1)])\n",
    "    r = q*rvir\n",
    "    #Adding spatial weights:\n",
    "    nsh = Nsh/(4.*np.pi*r*(r+rs)**2*(np.log(1.+c)-c/(1.+c)))\n",
    "    nsh_list[i] = nsh/(kpc**-3)"
   ]
  },
  {
   "cell_type": "code",
   "execution_count": null,
   "id": "1a928959",
   "metadata": {},
   "outputs": [],
   "source": [
    "#No spatial information:\n",
    "q_list2 = np.logspace(-3,0,N_r)*0.99\n",
    "nsh_list2 = np.empty_like(q_list)\n",
    "ma200,rs_a,rhos_a,m0,rs0,rhos0,ct0,weight,survive_new \\\n",
    "    = rs_rhos_calc_one_r(M0=M0,radius=0.1,redshift=redshift,\n",
    "                         logmamin=logmamin,N_ma=N_ma,\n",
    "                         zmax=zmax,mmodel=1)\n",
    "\n",
    "for i in np.arange(np.alen(q_list)):\n",
    "    q = q_list[i]\n",
    "\n",
    "    Nsh = np.sum(weight[(m0>1)*(survive_new==1)])\n",
    "    r = q*rvir\n",
    "    #Adding spatial weights:\n",
    "    nsh = Nsh/(4.*np.pi*r*(r+rs)**2*(np.log(1.+c)-c/(1.+c)))\n",
    "    nsh_list2[i] = nsh/(kpc**-3)"
   ]
  },
  {
   "cell_type": "markdown",
   "id": "6fd7ca5b",
   "metadata": {},
   "source": [
    "## Comparison between my model and Schin'ichiro's code:"
   ]
  },
  {
   "cell_type": "code",
   "execution_count": null,
   "id": "35c86b88",
   "metadata": {},
   "outputs": [],
   "source": [
    "fig, (ax1, ax2) = plt.subplots(1,2, figsize=(12,6))\n",
    "\n",
    "for ax in (ax1,ax2):\n",
    "    ax.tick_params(labelsize=12)\n",
    "    ax.set_xlabel(r'$\\frac{distance}{R_{vir}}$', fontsize=12)\n",
    "    ax.set_ylabel(r'$PDF_{1D}(\\frac{distance}{R_{vir}})$', fontsize=12)\n",
    "    ax.plot(q_list,nsh_list)\n",
    "    ax.plot(q_list2,nsh_list2)\n",
    "    ax.plot(q_new,nsh_list_new)\n",
    "    ax.plot(q_new2,nsh_list_new2)\n",
    "    ax.set_title(\"Number density at diferrent distance\",fontsize=12)\n",
    "    ax.legend(['Toy model case:SA','No spatial (NFW):SA','Toy model case: My model',\n",
    "               r'Toy model case: My model,$z_{acc}>0.2$'],fontsize=10)\n",
    "    ax.set_xlabel(r'$r/r_{\\rm vir}$')\n",
    "    ax.set_ylabel(r'$n_{\\rm sh}(r)$ [kpc$^{-3}$]')\n",
    "\n",
    "ax2.set_xscale('log')\n",
    "ax2.set_yscale('log')\n",
    "ax1.set_xlim(0.2,1)\n",
    "ax1.set_ylim(0,200)"
   ]
  },
  {
   "cell_type": "code",
   "execution_count": null,
   "id": "6b0ddfe6",
   "metadata": {},
   "outputs": [],
   "source": [
    "fig, (ax1, ax2) = plt.subplots(1,2, figsize=(12,6))\n",
    "\n",
    "dA_SA_SP=(4.*np.pi*(q_list*rvir/kpc)**2)\n",
    "dA_SA_NSP=(4.*np.pi*(q_list2*rvir/kpc)**2)\n",
    "dA_MMod=(4.*np.pi*(q_new*rvir/kpc)**2)\n",
    "\n",
    "for ax in (ax1,ax2):\n",
    "    ax.tick_params(labelsize=12)\n",
    "    ax.plot(q_list,nsh_list*dA_SA_SP)\n",
    "    ax.plot(q_list2,nsh_list2*dA_SA_NSP)\n",
    "    ax.plot(q_new,nsh_list_new*dA_MMod)\n",
    "    ax.plot(q_new2,nsh_list_new2*dA_MMod)\n",
    "    ax.legend(['Toy model case:SA','No spatial (NFW):SA','Toy model case: My model',\n",
    "               r'Toy model case: My model,$z_{acc}>0.2$'],fontsize=10)\n",
    "    ax.set_xlabel(r'$r/r_{\\rm vir}$')\n",
    "    ax.set_ylabel(r'$\\frac{N_{\\rm sh}(r)}{dr}$ [kpc$^{-1}$]')\n",
    "\n",
    "    \n",
    "ax2.set_xscale('log')\n",
    "ax2.set_yscale('log')\n"
   ]
  },
  {
   "cell_type": "code",
   "execution_count": null,
   "id": "761aafd3",
   "metadata": {},
   "outputs": [],
   "source": []
  },
  {
   "cell_type": "code",
   "execution_count": null,
   "id": "1e87da01",
   "metadata": {},
   "outputs": [],
   "source": []
  },
  {
   "cell_type": "code",
   "execution_count": null,
   "id": "da66d330",
   "metadata": {},
   "outputs": [],
   "source": []
  },
  {
   "cell_type": "code",
   "execution_count": null,
   "id": "ae2571f3",
   "metadata": {},
   "outputs": [],
   "source": []
  }
 ],
 "metadata": {
  "kernelspec": {
   "display_name": "Python 3",
   "language": "python",
   "name": "python3"
  },
  "language_info": {
   "codemirror_mode": {
    "name": "ipython",
    "version": 3
   },
   "file_extension": ".py",
   "mimetype": "text/x-python",
   "name": "python",
   "nbconvert_exporter": "python",
   "pygments_lexer": "ipython3",
   "version": "3.8.10"
  }
 },
 "nbformat": 4,
 "nbformat_minor": 5
}
