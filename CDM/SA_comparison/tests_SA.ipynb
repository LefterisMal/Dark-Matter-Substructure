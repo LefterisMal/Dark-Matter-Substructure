{
 "cells": [
  {
   "cell_type": "code",
   "execution_count": 1,
   "id": "3f867049-ad4d-4e62-a15c-8d7cb9325df0",
   "metadata": {},
   "outputs": [],
   "source": [
    "from subhalos_SA2 import *\n",
    "\n",
    "plt.rc('font', **{'family':'sans-serif','size':15})\n",
    "plt.rc('text', usetex=False)\n",
    "plt.rc('xtick', labelsize=15)\n",
    "plt.rc('ytick', labelsize=15)\n",
    "plt.rcParams['xtick.major.size'] = 5\n",
    "plt.rcParams['xtick.major.width'] = 1\n",
    "plt.rcParams['xtick.minor.size'] = 2\n",
    "plt.rcParams['xtick.minor.width'] = 1\n",
    "plt.rcParams['ytick.major.size'] = 5\n",
    "plt.rcParams['ytick.major.width'] = 1\n",
    "plt.rcParams['ytick.minor.size'] = 2\n",
    "plt.rcParams['ytick.minor.width'] = 1\n",
    "plt.rcParams['xtick.direction'] = 'in'\n",
    "plt.rcParams['ytick.direction'] = 'in'\n",
    "plt.rcParams['xtick.major.pad'] = 8\n",
    "plt.rcParams['xtick.top'] = True\n",
    "plt.rcParams['ytick.right'] = True"
   ]
  },
  {
   "cell_type": "code",
   "execution_count": 2,
   "id": "cac75e13-f2d9-4f46-9b82-10af064d17e7",
   "metadata": {},
   "outputs": [],
   "source": [
    "M0=1e12                         #Mass of the host halo.\n",
    "redshift = 0.\n",
    "N_ma=200                        #number of subhalo mass values in a given range.\n",
    "zmax=7                          #highest redshift value for mass accretion.\n",
    "N_r=100                         #The number of radius values in the given range [0.01,1]\n",
    "\n",
    "logmamin=-6                     #The minimum subhalos' masss in units of ln(mass).\n",
    "mmodel_1=5                      #This variable defines the dm/dt model for the calculation,see subhalos_latest2.py\n",
    "                                #at function msolve for more details. \n",
    "    \n",
    "mmodel_2=1                      #This dm/dt model correspond to the model with no spatial information."
   ]
  },
  {
   "cell_type": "code",
   "execution_count": 3,
   "id": "fbe7a399-bb20-451f-adf8-335f826ecc71",
   "metadata": {},
   "outputs": [
    {
     "name": "stderr",
     "output_type": "stream",
     "text": [
      "/Users/ando/Desktop/Lefteris/subhalos_SA2.py:516: RuntimeWarning: invalid value encountered in true_divide\n",
      "  rhos_z0[iz] = (4.625/(4*np.pi*G))*pow(Vmax_z0/rs_z0[iz],2)\n",
      "/Users/ando/Desktop/Lefteris/subhalos_SA2.py:228: RuntimeWarning: divide by zero encountered in power\n",
      "  normB=pow(2*np.pi,-0.5)*delca*0.57*pow(delca/np.sqrt(sM),-0.01)*(2./(1.-0.38))*pow(sM,-0.38/2.)*pow(xmin,0.5*(0.38-1.))*special.hyp2f1(0.5*(1-0.38),-0.38/2.,0.5*(3.-0.38),-sM/xmin)\n",
      "/Users/ando/Desktop/Lefteris/subhalos_SA2.py:228: RuntimeWarning: divide by zero encountered in true_divide\n",
      "  normB=pow(2*np.pi,-0.5)*delca*0.57*pow(delca/np.sqrt(sM),-0.01)*(2./(1.-0.38))*pow(sM,-0.38/2.)*pow(xmin,0.5*(0.38-1.))*special.hyp2f1(0.5*(1-0.38),-0.38/2.,0.5*(3.-0.38),-sM/xmin)\n",
      "/Users/ando/Desktop/Lefteris/subhalos_SA2.py:166: RuntimeWarning: invalid value encountered in power\n",
      "  return pow(2*np.pi,-0.5)*dela*pow(sig2-sig1,-1.5)\n"
     ]
    }
   ],
   "source": [
    "q_list = np.logspace(-3,0,10)*0.99\n",
    "nsh_list = np.empty_like(q_list)\n",
    "for i in np.arange(np.alen(q_list)):\n",
    "    q = q_list[i]\n",
    "    ma200,rs_a,rhos_a,m0,rs0,rhos0,ct0,weight,survive_new \\\n",
    "        = rs_rhos_calc_one_r(M0=M0,radius=q,redshift=redshift,\n",
    "                             logmamin=logmamin,N_ma=N_ma,\n",
    "                             zmax=zmax,mmodel=mmodel_1)\n",
    "    Nsh = np.sum(weight[(m0>1)*(survive_new==1)])\n",
    "    \n",
    "    c = c_from_Mvir(Mvir=M0*Msolar,z=redshift)\n",
    "    Oz = Omegaz(pOmega,redshift)\n",
    "    rvir = (3.*M0*Msolar/(4.*np.pi*rhocrit(redshift)*Delc(Oz-1)))**(1./3.)\n",
    "    rs = rvir/c\n",
    "    r = q*rvir\n",
    "    nsh = Nsh/(4.*np.pi*r*(r+rs)**2*(np.log(1.+c)-c/(1.+c)))\n",
    "    nsh_list[i] = nsh/(kpc**-3)"
   ]
  },
  {
   "cell_type": "code",
   "execution_count": 4,
   "id": "08accbff-a8bf-45e4-8da2-9d76b220a8f5",
   "metadata": {},
   "outputs": [],
   "source": [
    "q_list2 = np.logspace(-3,0,10)*0.99\n",
    "nsh_list2 = np.empty_like(q_list)\n",
    "ma200,rs_a,rhos_a,m0,rs0,rhos0,ct0,weight,survive_new \\\n",
    "    = rs_rhos_calc_one_r(M0=M0,radius=0.1,redshift=redshift,\n",
    "                         logmamin=logmamin,N_ma=N_ma,\n",
    "                         zmax=zmax,mmodel=1)\n",
    "\n",
    "for i in np.arange(np.alen(q_list)):\n",
    "    q = q_list[i]\n",
    "\n",
    "    Nsh = np.sum(weight[(m0>1)*(survive_new==1)])\n",
    "    \n",
    "    c = c_from_Mvir(Mvir=M0*Msolar,z=redshift)\n",
    "    Oz = Omegaz(pOmega,redshift)\n",
    "    rvir = (3.*M0*Msolar/(4.*np.pi*rhocrit(redshift)*Delc(Oz-1)))**(1./3.)\n",
    "    rs = rvir/c\n",
    "    r = q*rvir\n",
    "    nsh = Nsh/(4.*np.pi*r*(r+rs)**2*(np.log(1.+c)-c/(1.+c)))\n",
    "    nsh_list2[i] = nsh/(kpc**-3)"
   ]
  },
  {
   "cell_type": "code",
   "execution_count": 5,
   "id": "767ea195-c4a7-4c2a-a6a4-e26b257f9866",
   "metadata": {},
   "outputs": [
    {
     "data": {
      "text/plain": [
       "[<matplotlib.lines.Line2D at 0x12efdb5e0>]"
      ]
     },
     "execution_count": 5,
     "metadata": {},
     "output_type": "execute_result"
    },
    {
     "data": {
      "image/png": "[encoded data removed]",
      "text/plain": [
       "<Figure size 432x288 with 1 Axes>"
      ]
     },
     "metadata": {
      "needs_background": "light"
     },
     "output_type": "display_data"
    }
   ],
   "source": [
    "plt.xlabel(r'$r/r_{\\rm vir}$')\n",
    "plt.ylabel(r'$n_{\\rm sh}(r)$ [kpc$^{-3}$]')\n",
    "plt.loglog(q_list,nsh_list)\n",
    "plt.loglog(q_list2,nsh_list2)\n",
    "#plt.loglog(q_list,3e2*np.exp(-2./.678*(q_list/0.81*1.25)**.678))\n",
    "#plt.loglog(q_list,1e4/(q_list**2+0.1**2)**(3./2.))"
   ]
  },
  {
   "cell_type": "code",
   "execution_count": null,
   "id": "5d370348-43e3-471e-b067-75bcbdc0d3c1",
   "metadata": {},
   "outputs": [],
   "source": []
  }
 ],
 "metadata": {
  "kernelspec": {
   "display_name": "Python 3",
   "language": "python",
   "name": "python3"
  },
  "language_info": {
   "codemirror_mode": {
    "name": "ipython",
    "version": 3
   },
   "file_extension": ".py",
   "mimetype": "text/x-python",
   "name": "python",
   "nbconvert_exporter": "python",
   "pygments_lexer": "ipython3",
   "version": "3.8.10"
  }
 },
 "nbformat": 4,
 "nbformat_minor": 5
}
